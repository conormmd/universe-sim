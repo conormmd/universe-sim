{
 "cells": [
  {
   "cell_type": "code",
   "execution_count": 4,
   "id": "5aa32c08-3bde-4c75-8eab-83ee402ff28c",
   "metadata": {
    "tags": []
   },
   "outputs": [],
   "source": [
    "import pandas as pd\n",
    "import numpy as np"
   ]
  },
  {
   "cell_type": "code",
   "execution_count": 27,
   "id": "fbb7a873-8ebe-4ee7-91d2-970d7b5e5070",
   "metadata": {
    "tags": []
   },
   "outputs": [
    {
     "data": {
      "text/html": [
       "<div>\n",
       "<style scoped>\n",
       "    .dataframe tbody tr th:only-of-type {\n",
       "        vertical-align: middle;\n",
       "    }\n",
       "\n",
       "    .dataframe tbody tr th {\n",
       "        vertical-align: top;\n",
       "    }\n",
       "\n",
       "    .dataframe thead th {\n",
       "        text-align: right;\n",
       "    }\n",
       "</style>\n",
       "<table border=\"1\" class=\"dataframe\">\n",
       "  <thead>\n",
       "    <tr style=\"text-align: right;\">\n",
       "      <th></th>\n",
       "      <th>Account_num</th>\n",
       "      <th>Date</th>\n",
       "      <th>Data</th>\n",
       "    </tr>\n",
       "  </thead>\n",
       "  <tbody>\n",
       "    <tr>\n",
       "      <th>0</th>\n",
       "      <td>1</td>\n",
       "      <td>2023-01-01</td>\n",
       "      <td>1</td>\n",
       "    </tr>\n",
       "    <tr>\n",
       "      <th>1</th>\n",
       "      <td>2</td>\n",
       "      <td>2023-01-01</td>\n",
       "      <td>2</td>\n",
       "    </tr>\n",
       "    <tr>\n",
       "      <th>2</th>\n",
       "      <td>1</td>\n",
       "      <td>2022-12-01</td>\n",
       "      <td>3</td>\n",
       "    </tr>\n",
       "    <tr>\n",
       "      <th>3</th>\n",
       "      <td>2</td>\n",
       "      <td>2022-12-01</td>\n",
       "      <td>4</td>\n",
       "    </tr>\n",
       "  </tbody>\n",
       "</table>\n",
       "</div>"
      ],
      "text/plain": [
       "   Account_num       Date  Data\n",
       "0            1 2023-01-01     1\n",
       "1            2 2023-01-01     2\n",
       "2            1 2022-12-01     3\n",
       "3            2 2022-12-01     4"
      ]
     },
     "execution_count": 27,
     "metadata": {},
     "output_type": "execute_result"
    }
   ],
   "source": [
    "df = pd.DataFrame({\n",
    "    \"Account_num\": [1, 2, 1, 2],\n",
    "    \"Date\": [\"2023-01-01\", \"2023-01-01\", \"2022-12-01\", \"2022-12-01\"],\n",
    "    \"Data\": [1, 2, 3, 4]\n",
    "})\n",
    "df[\"Date\"] = df[\"Date\"].astype(\"datetime64[ns]\")\n",
    "df"
   ]
  },
  {
   "cell_type": "code",
   "execution_count": 28,
   "id": "18161e84-7626-4e94-b956-b8da66166898",
   "metadata": {
    "tags": []
   },
   "outputs": [
    {
     "data": {
      "text/html": [
       "<div>\n",
       "<style scoped>\n",
       "    .dataframe tbody tr th:only-of-type {\n",
       "        vertical-align: middle;\n",
       "    }\n",
       "\n",
       "    .dataframe tbody tr th {\n",
       "        vertical-align: top;\n",
       "    }\n",
       "\n",
       "    .dataframe thead th {\n",
       "        text-align: right;\n",
       "    }\n",
       "</style>\n",
       "<table border=\"1\" class=\"dataframe\">\n",
       "  <thead>\n",
       "    <tr style=\"text-align: right;\">\n",
       "      <th></th>\n",
       "      <th>Account_num</th>\n",
       "      <th>Date</th>\n",
       "      <th>Data</th>\n",
       "      <th>Prior_date</th>\n",
       "      <th>Current_key</th>\n",
       "      <th>Prior_key</th>\n",
       "    </tr>\n",
       "  </thead>\n",
       "  <tbody>\n",
       "    <tr>\n",
       "      <th>0</th>\n",
       "      <td>1</td>\n",
       "      <td>2023-01-01</td>\n",
       "      <td>1</td>\n",
       "      <td>2022-12-01</td>\n",
       "      <td>1_2023-01-01</td>\n",
       "      <td>1_2022-12-01</td>\n",
       "    </tr>\n",
       "    <tr>\n",
       "      <th>1</th>\n",
       "      <td>2</td>\n",
       "      <td>2023-01-01</td>\n",
       "      <td>2</td>\n",
       "      <td>2022-12-01</td>\n",
       "      <td>2_2023-01-01</td>\n",
       "      <td>2_2022-12-01</td>\n",
       "    </tr>\n",
       "    <tr>\n",
       "      <th>2</th>\n",
       "      <td>1</td>\n",
       "      <td>2022-12-01</td>\n",
       "      <td>3</td>\n",
       "      <td>2022-11-01</td>\n",
       "      <td>1_2022-12-01</td>\n",
       "      <td>1_2022-11-01</td>\n",
       "    </tr>\n",
       "    <tr>\n",
       "      <th>3</th>\n",
       "      <td>2</td>\n",
       "      <td>2022-12-01</td>\n",
       "      <td>4</td>\n",
       "      <td>2022-11-01</td>\n",
       "      <td>2_2022-12-01</td>\n",
       "      <td>2_2022-11-01</td>\n",
       "    </tr>\n",
       "  </tbody>\n",
       "</table>\n",
       "</div>"
      ],
      "text/plain": [
       "   Account_num       Date  Data Prior_date   Current_key     Prior_key\n",
       "0            1 2023-01-01     1 2022-12-01  1_2023-01-01  1_2022-12-01\n",
       "1            2 2023-01-01     2 2022-12-01  2_2023-01-01  2_2022-12-01\n",
       "2            1 2022-12-01     3 2022-11-01  1_2022-12-01  1_2022-11-01\n",
       "3            2 2022-12-01     4 2022-11-01  2_2022-12-01  2_2022-11-01"
      ]
     },
     "execution_count": 28,
     "metadata": {},
     "output_type": "execute_result"
    }
   ],
   "source": [
    "df[\"Prior_date\"] = df[\"Date\"] - pd.DateOffset(months = 1)\n",
    "df[\"Current_key\"] = df[\"Account_num\"].astype(str) + \"_\" + df[\"Date\"].astype(str)\n",
    "df[\"Prior_key\"] = df[\"Account_num\"].astype(str) + \"_\" + df[\"Prior_date\"].astype(str)\n",
    "df"
   ]
  },
  {
   "cell_type": "code",
   "execution_count": 32,
   "id": "04ccdaa7-1399-4e89-94e2-60d07f6bf210",
   "metadata": {
    "tags": []
   },
   "outputs": [],
   "source": [
    "df = pd.merge(\n",
    "    df[[\"Prior_key\", \"Account_num\", \"Date\", \"Data\"]],\n",
    "    df[[\"Current_key\", \"Data\"]],\n",
    "    left_on = \"Prior_key\",\n",
    "    right_on = \"Current_key\",\n",
    "    suffixes = (\"_CURRENT\", \"_PRIOR\")\n",
    ")"
   ]
  },
  {
   "cell_type": "code",
   "execution_count": 33,
   "id": "c0451663-19e2-4e40-9335-8ab07e616b99",
   "metadata": {
    "tags": []
   },
   "outputs": [
    {
     "data": {
      "text/html": [
       "<div>\n",
       "<style scoped>\n",
       "    .dataframe tbody tr th:only-of-type {\n",
       "        vertical-align: middle;\n",
       "    }\n",
       "\n",
       "    .dataframe tbody tr th {\n",
       "        vertical-align: top;\n",
       "    }\n",
       "\n",
       "    .dataframe thead th {\n",
       "        text-align: right;\n",
       "    }\n",
       "</style>\n",
       "<table border=\"1\" class=\"dataframe\">\n",
       "  <thead>\n",
       "    <tr style=\"text-align: right;\">\n",
       "      <th></th>\n",
       "      <th>Account_num</th>\n",
       "      <th>Date</th>\n",
       "      <th>Data_CURRENT</th>\n",
       "      <th>Data_PRIOR</th>\n",
       "    </tr>\n",
       "  </thead>\n",
       "  <tbody>\n",
       "    <tr>\n",
       "      <th>0</th>\n",
       "      <td>1</td>\n",
       "      <td>2023-01-01</td>\n",
       "      <td>1</td>\n",
       "      <td>3</td>\n",
       "    </tr>\n",
       "    <tr>\n",
       "      <th>1</th>\n",
       "      <td>2</td>\n",
       "      <td>2023-01-01</td>\n",
       "      <td>2</td>\n",
       "      <td>4</td>\n",
       "    </tr>\n",
       "  </tbody>\n",
       "</table>\n",
       "</div>"
      ],
      "text/plain": [
       "   Account_num       Date  Data_CURRENT  Data_PRIOR\n",
       "0            1 2023-01-01             1           3\n",
       "1            2 2023-01-01             2           4"
      ]
     },
     "execution_count": 33,
     "metadata": {},
     "output_type": "execute_result"
    }
   ],
   "source": [
    "df[[\"Account_num\", \"Date\", \"Data_CURRENT\", \"Data_PRIOR\"]]"
   ]
  },
  {
   "cell_type": "code",
   "execution_count": null,
   "id": "0485faca-09ef-4bfd-8f2c-143ec43a4e22",
   "metadata": {},
   "outputs": [],
   "source": []
  }
 ],
 "metadata": {
  "kernelspec": {
   "display_name": "Python 3 (ipykernel)",
   "language": "python",
   "name": "python3"
  },
  "language_info": {
   "codemirror_mode": {
    "name": "ipython",
    "version": 3
   },
   "file_extension": ".py",
   "mimetype": "text/x-python",
   "name": "python",
   "nbconvert_exporter": "python",
   "pygments_lexer": "ipython3",
   "version": "3.9.7"
  }
 },
 "nbformat": 4,
 "nbformat_minor": 5
}
