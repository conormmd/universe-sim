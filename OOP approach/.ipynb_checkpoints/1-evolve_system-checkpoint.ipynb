{
 "cells": [
  {
   "cell_type": "code",
   "execution_count": 25,
   "id": "bc8b0c52-ccae-4a86-9b26-78b7499791f5",
   "metadata": {
    "tags": []
   },
   "outputs": [],
   "source": [
    "import numpy as np\n",
    "import matplotlib.pyplot as plt"
   ]
  },
  {
   "cell_type": "code",
   "execution_count": 8,
   "id": "a153603c-6a91-4171-854a-774ee09bd8c6",
   "metadata": {
    "tags": []
   },
   "outputs": [],
   "source": [
    "def mod_vector(vector):\n",
    "    return np.sqrt(vector.dot(vector.T))\n",
    "\n",
    "def grav_acceleration(mass, vector):\n",
    "    return -1*G*mass*vector/(mod_vector(vector))**3"
   ]
  },
  {
   "cell_type": "code",
   "execution_count": 68,
   "id": "dfc96a47-6ede-4e96-ad9c-1253e742a5a1",
   "metadata": {
    "tags": []
   },
   "outputs": [],
   "source": [
    "class MassiveBody:\n",
    "    \n",
    "    def __init__(self, mass, position, velocity, theta, period):\n",
    "        self.mass = mass\n",
    "        self.position = position\n",
    "        self.velocity = velocity\n",
    "        self.theta = theta\n",
    "        self.period = period\n",
    "        self.omega = 2*np.pi/self.period\n",
    "        \n",
    "        self.position_tracker = [position]\n",
    "        self.velocity_tracker = [velocity]\n",
    "        self.theta_tracker = [theta]\n",
    "        \n",
    "class LightBody:\n",
    "    \n",
    "    def __init__(self, position, velocity):\n",
    "        self.position = position\n",
    "        self.velocity = velocity\n",
    "        self.acceleration = 0\n",
    "        \n",
    "        self.position_tracker = [position]\n",
    "        self.velocity_tracker = [velocity]\n",
    "        self.acceleration_tracker = []\n",
    "    "
   ]
  },
  {
   "cell_type": "code",
   "execution_count": 126,
   "id": "9296a9a4-674f-4d88-8827-1875a15c5f5e",
   "metadata": {
    "tags": []
   },
   "outputs": [],
   "source": [
    "class Universe:\n",
    "    \n",
    "    def __init__(self, massive_bodies, light_bodies, time, dt):\n",
    "        self.massive_bodies = massive_bodies\n",
    "        self.light_bodies = light_bodies\n",
    "        self.time = time\n",
    "        self.dt = dt\n",
    "        \n",
    "        self.time_tracker = [time]\n",
    "    \n",
    "    def simulate_massive_bodies_on_rails(self, tick):\n",
    "        self.time = t\n",
    "        self.time_tracker.append(self.time)\n",
    "\n",
    "        for body in self.massive_bodies:\n",
    "            body.theta += self.dt * body.omega\n",
    "            body.theta_tracker.append(body.theta)\n",
    "\n",
    "            r = mod_vector(body.position)\n",
    "            body.position = np.array([[np.cos(body.theta), np.sin(body.theta)]])*r\n",
    "            body.position_tracker.append(body.position)\n",
    "        return\n",
    "    \n",
    "    def calculate_acceleration_light_bodies(self, store = True, runge_kutta = False, rkn = 0):\n",
    "        for target_body in self.light_bodies:\n",
    "            acceleration = 0\n",
    "            \n",
    "            for source_body in self.massive_bodies:\n",
    "                target_source_vector = target_body.position - source_body.position\n",
    "                acceleration += grav_acceleration(source_body.mass, target_source_vector)\n",
    "            \n",
    "            if store:\n",
    "                target_body.acceleration = acceleration\n",
    "                target_body.acceleration_tracker.append(target_body.acceleration)\n",
    "            \n",
    "            if runge_kutta:\n",
    "                setattr(target_body, f\"A_z{rkn}\", acceleration)\n",
    "                \n",
    "    def calculate_position_light_bodies(self, store = True, runge_kutta = False, rkn = 0):\n",
    "        for target_body in self.light_bodies:\n",
    "            if runge_kutta:\n",
    "                setattr(target_body, f\"r_z{rkn}\", target_body.position + 0.5 * self.dt * target_body.velocity)\n",
    "\n",
    "    def calculate_velocity_light_bodies(self, store = True, runge_kutta = False, rkn = 0):\n",
    "        for target_body in self.light_bodies:\n",
    "            if runge_kutta:\n",
    "                setattr(target_body, f\"V_z{rkn}\", target_body.velocity + 0.5 * self.dt * target_body.acceleration)\n",
    "    \n",
    "    def calculate_full_runge_kutta(self, store = True):\n",
    "        for target_body in self.light_bodies:\n",
    "            target_body.velocity = target_body.velocity + (self.dt/6) * (target_body.acceleration + 2*target_body.A_z1 + 2*target_body.A_z2 + target_body.A_z3)\n",
    "            target_body.position = target_body.position + (self.dt/6) * (target_body.velocity + 2*target_body.V_z1 + 2*target_body.V_z2 + target_body.V_z3)\n",
    "            \n",
    "            if store:\n",
    "                target_body.velocity_tracker.append(target_body.velocity)\n",
    "                target_body.position_tracker.append(target_body.position)\n",
    "            \n",
    "                \n",
    "    def runge_kutta_ode_approx(self):\n",
    "        rk = 4\n",
    "        for n in range(1, rk):\n",
    "            self.calculate_position_light_bodies(store = False, runge_kutta = True, rkn = n)\n",
    "            self.calculate_velocity_light_bodies(store = False, runge_kutta = True, rkn = n)\n",
    "            self.calculate_acceleration_light_bodies(store = False, runge_kutta = True, rkn = n)\n",
    "        \n",
    "        self.calculate_full_runge_kutta()\n",
    "            \n",
    "            \n",
    "    \n",
    "    \n",
    "    "
   ]
  },
  {
   "cell_type": "code",
   "execution_count": 127,
   "id": "05ecf4c5-ac95-495b-a47f-8e367fa0c1de",
   "metadata": {
    "tags": []
   },
   "outputs": [],
   "source": [
    "G = 6.6726e-11\n",
    "d = 7.7834082e11\n",
    "J_m = 1.898130e27\n",
    "S_m = 1.98847e30\n",
    "S_r = d*(J_m/(J_m+S_m))\n",
    "J_r = d*(S_m/(J_m+S_m))\n",
    "P = np.sqrt((d**3/(G*(S_m+J_m))))*2*np.pi\n",
    "S_v = (2*np.pi*S_r)/P\n",
    "J_v = (2*np.pi*J_r)/P\n",
    "ticks = 1000\n",
    "dt = 5000\n",
    "time = 0\n",
    "\n",
    "J_theta = np.pi/2\n",
    "jupiter_position = np.array([[0, J_r]])\n",
    "jupiter_velocity = np.array([[J_v, 0]])\n",
    "\n",
    "S_theta = -np.pi/2\n",
    "sun_position = np.array([[0, -S_r]])\n",
    "sun_velocity = np.array([[-S_v, 0]])"
   ]
  },
  {
   "cell_type": "code",
   "execution_count": 139,
   "id": "8786b6da-2c71-42e3-9e46-9f9c3dc0bd1d",
   "metadata": {
    "tags": []
   },
   "outputs": [],
   "source": [
    "jupiter = MassiveBody(J_m, jupiter_position, jupiter_velocity, J_theta, P)\n",
    "sun = MassiveBody(S_m, sun_position, sun_velocity, S_theta, P)\n",
    "asteroid = LightBody(-jupiter_position, jupiter_velocity*0.25)\n",
    "massive_bodies = [jupiter, sun]\n",
    "light_bodies = [asteroid]\n",
    "universe = Universe(massive_bodies, light_bodies, time, dt)"
   ]
  },
  {
   "cell_type": "code",
   "execution_count": 145,
   "id": "9d412251-fcef-4402-be44-086659470e2c",
   "metadata": {
    "tags": []
   },
   "outputs": [],
   "source": [
    "ticks = 10000000\n",
    "for t in range(1, ticks):\n",
    "    universe.simulate_massive_bodies_on_rails(t)\n",
    "    universe.calculate_acceleration_light_bodies()\n",
    "    universe.runge_kutta_ode_approx()"
   ]
  },
  {
   "cell_type": "code",
   "execution_count": 146,
   "id": "0a718f94-4e10-489f-ab8e-ee0e80c4e24c",
   "metadata": {
    "tags": []
   },
   "outputs": [
    {
     "data": {
      "text/plain": [
       "[<matplotlib.lines.Line2D at 0x2590e2d3790>]"
      ]
     },
     "execution_count": 146,
     "metadata": {},
     "output_type": "execute_result"
    },
    {
     "data": {
      "image/png": "[encoded data removed]",
      "text/plain": [
       "<Figure size 640x480 with 1 Axes>"
      ]
     },
     "metadata": {},
     "output_type": "display_data"
    }
   ],
   "source": [
    "x = list(map(lambda x: x[0][0], jupiter.position_tracker))\n",
    "y = list(map(lambda x: x[0][1], jupiter.position_tracker))\n",
    "plt.plot(x, y)\n",
    "x = list(map(lambda x: x[0][0], sun.position_tracker))\n",
    "y = list(map(lambda x: x[0][1], sun.position_tracker))\n",
    "plt.plot(x, y)\n",
    "x = list(map(lambda x: x[0][0], asteroid.position_tracker))\n",
    "y = list(map(lambda x: x[0][1], asteroid.position_tracker))\n",
    "plt.plot(x, y)"
   ]
  },
  {
   "cell_type": "code",
   "execution_count": null,
   "id": "e22b5cfc-e165-48fb-a165-848f6adf40a2",
   "metadata": {},
   "outputs": [],
   "source": []
  }
 ],
 "metadata": {
  "kernelspec": {
   "display_name": "Python 3 (ipykernel)",
   "language": "python",
   "name": "python3"
  },
  "language_info": {
   "codemirror_mode": {
    "name": "ipython",
    "version": 3
   },
   "file_extension": ".py",
   "mimetype": "text/x-python",
   "name": "python",
   "nbconvert_exporter": "python",
   "pygments_lexer": "ipython3",
   "version": "3.9.7"
  }
 },
 "nbformat": 4,
 "nbformat_minor": 5
}
